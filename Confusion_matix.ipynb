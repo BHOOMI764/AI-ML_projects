{
 "cells": [
  {
   "cell_type": "markdown",
   "id": "c21de1bf-1a2b-4f7b-a281-bcc2e4cb3c09",
   "metadata": {},
   "source": [
    "Heart Attcak Prediction using  a confusion matrix\n"
   ]
  },
  {
   "cell_type": "code",
   "execution_count": null,
   "id": "17695034-9adb-418a-86d0-c086d0cdb63e",
   "metadata": {},
   "outputs": [],
   "source": []
  }
 ],
 "metadata": {
  "kernelspec": {
   "display_name": "Python 3 (ipykernel)",
   "language": "python",
   "name": "python3"
  },
  "language_info": {
   "codemirror_mode": {
    "name": "ipython",
    "version": 3
   },
   "file_extension": ".py",
   "mimetype": "text/x-python",
   "name": "python",
   "nbconvert_exporter": "python",
   "pygments_lexer": "ipython3",
   "version": "3.12.4"
  }
 },
 "nbformat": 4,
 "nbformat_minor": 5
}
