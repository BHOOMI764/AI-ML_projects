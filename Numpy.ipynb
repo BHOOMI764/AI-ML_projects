{
 "cells": [
  {
   "cell_type": "code",
   "execution_count": 1,
   "id": "c05964b5-60c4-444b-94cc-b3e33a46ca12",
   "metadata": {},
   "outputs": [],
   "source": [
    "import numpy as np\n"
   ]
  },
  {
   "cell_type": "code",
   "execution_count": 2,
   "id": "ddc5cb71-e14c-4a14-b222-6c1fe6ada7a7",
   "metadata": {},
   "outputs": [],
   "source": [
    "x=np.array([1,2,4,5])"
   ]
  },
  {
   "cell_type": "code",
   "execution_count": 3,
   "id": "46ec29cf-2eef-4577-97d2-62057c1966c3",
   "metadata": {},
   "outputs": [
    {
     "name": "stdout",
     "output_type": "stream",
     "text": [
      "[1 2 4 5]\n"
     ]
    }
   ],
   "source": [
    "print(x)"
   ]
  },
  {
   "cell_type": "code",
   "execution_count": 4,
   "id": "e29d5ccd-908b-4cab-9581-496027db96a8",
   "metadata": {},
   "outputs": [
    {
     "name": "stdout",
     "output_type": "stream",
     "text": [
      "<class 'numpy.ndarray'>\n"
     ]
    }
   ],
   "source": [
    "print(type(x))"
   ]
  },
  {
   "cell_type": "code",
   "execution_count": 1,
   "id": "a2049afb-49bd-4f3d-b0f5-0b6b1e27f71a",
   "metadata": {},
   "outputs": [
    {
     "name": "stdout",
     "output_type": "stream",
     "text": [
      "[2, 3, 4, 5]\n"
     ]
    }
   ],
   "source": [
    "y=[2,3,4,5]\n",
    "print(y)"
   ]
  },
  {
   "cell_type": "code",
   "execution_count": 4,
   "id": "88590f0f-72ae-4e21-88d0-2a62fe8fad66",
   "metadata": {},
   "outputs": [
    {
     "name": "stdin",
     "output_type": "stream",
     "text": [
      "enter 2\n",
      "enter 3\n",
      "enter 4\n",
      "enter 5\n"
     ]
    },
    {
     "name": "stdout",
     "output_type": "stream",
     "text": [
      "[2 3 4 5]\n"
     ]
    }
   ],
   "source": [
    "import numpy as np\n",
    "l=[]\n",
    "for i in range(1,5):\n",
    " int_1=int(input(\"enter\"))\n",
    " l.append(int_1)\n",
    "print(np.array(l))"
   ]
  },
  {
   "cell_type": "code",
   "execution_count": 19,
   "id": "06cc5edb-18ce-4401-a375-c7796b2842b6",
   "metadata": {},
   "outputs": [
    {
     "name": "stdout",
     "output_type": "stream",
     "text": [
      "NumPy Array:\n",
      "[[1 2 3 4]\n",
      " [5 6 7 8]]\n",
      "Number of dimensions:\n",
      "2\n"
     ]
    }
   ],
   "source": [
    "import numpy as np\n",
    "\n",
    "arr2 = np.array ([[1, 2, 3, 4], [5, 6, 7, 8]])  # A 2D list\n",
    "#arr2_np = np.array(arr2)  # Convert to NumPy array\n",
    "\n",
    "print(\"NumPy Array:\")\n",
    "print(arr2)\n",
    "\n",
    "print(\"Number of dimensions:\")\n",
    "print(arr2.ndim)  # ndim shows the number of dimensions of the array\n"
   ]
  },
  {
   "cell_type": "code",
   "execution_count": 20,
   "id": "37dadf20-9e45-4a83-9c99-ece267fbf61c",
   "metadata": {},
   "outputs": [
    {
     "name": "stdout",
     "output_type": "stream",
     "text": [
      "[[[1 2 3 4]\n",
      "  [1 2 3 4]\n",
      "  [1 3 5 6]]]\n",
      "3\n"
     ]
    }
   ],
   "source": [
    "arr3=np.array([[[1,2,3,4],[1,2,3,4],[1,3,5,6]]])\n",
    "print(arr3)\n",
    "print(np.array(arr3.ndim))"
   ]
  },
  {
   "cell_type": "code",
   "execution_count": 6,
   "id": "309315e4-45ec-4116-adc4-fffaaf41dbb8",
   "metadata": {},
   "outputs": [
    {
     "ename": "TypeError",
     "evalue": "array() got an unexpected keyword argument 'ndim'",
     "output_type": "error",
     "traceback": [
      "\u001b[1;31m---------------------------------------------------------------------------\u001b[0m",
      "\u001b[1;31mTypeError\u001b[0m                                 Traceback (most recent call last)",
      "Cell \u001b[1;32mIn[6], line 2\u001b[0m\n\u001b[0;32m      1\u001b[0m \u001b[38;5;28;01mimport\u001b[39;00m \u001b[38;5;21;01mnumpy\u001b[39;00m \u001b[38;5;28;01mas\u001b[39;00m \u001b[38;5;21;01mnp\u001b[39;00m\n\u001b[1;32m----> 2\u001b[0m arr\u001b[38;5;241m=\u001b[39m\u001b[43mnp\u001b[49m\u001b[38;5;241;43m.\u001b[39;49m\u001b[43marray\u001b[49m\u001b[43m(\u001b[49m\u001b[43m[\u001b[49m\u001b[38;5;241;43m1\u001b[39;49m\u001b[43m,\u001b[49m\u001b[38;5;241;43m2\u001b[39;49m\u001b[43m,\u001b[49m\u001b[38;5;241;43m3\u001b[39;49m\u001b[43m,\u001b[49m\u001b[38;5;241;43m4\u001b[39;49m\u001b[43m]\u001b[49m\u001b[43m,\u001b[49m\u001b[43mndim\u001b[49m\u001b[38;5;241;43m=\u001b[39;49m\u001b[38;5;241;43m10\u001b[39;49m\u001b[43m)\u001b[49m\n\u001b[0;32m      3\u001b[0m \u001b[38;5;28mprint\u001b[39m(arr)\n",
      "\u001b[1;31mTypeError\u001b[0m: array() got an unexpected keyword argument 'ndim'"
     ]
    }
   ],
   "source": [
    "import numpy as np\n",
    "arr=np.array([1,2,3,4],ndim=10)\n",
    "print(arr)"
   ]
  },
  {
   "cell_type": "code",
   "execution_count": 8,
   "id": "1c788ae8-ef56-40e4-be5d-1e9295f5894a",
   "metadata": {},
   "outputs": [
    {
     "name": "stdout",
     "output_type": "stream",
     "text": [
      "[[0. 0. 0. 0.]\n",
      " [0. 0. 0. 0.]\n",
      " [0. 0. 0. 0.]]\n"
     ]
    }
   ],
   "source": [
    "#array filled 0's and 1's\n",
    "import numpy as np\n",
    "arr_zeros=np.zeros((3,4))\n",
    "print(arr_zeros)"
   ]
  },
  {
   "cell_type": "code",
   "execution_count": 16,
   "id": "10fd07d8-5a0d-4286-9eab-3efc0b3421e1",
   "metadata": {},
   "outputs": [
    {
     "name": "stdout",
     "output_type": "stream",
     "text": [
      "[[1. 1. 1. 1.]\n",
      " [1. 1. 1. 1.]\n",
      " [1. 1. 1. 1.]]\n",
      "\n",
      "[0 1 2 3]\n"
     ]
    }
   ],
   "source": [
    "ones_1=np.ones((3,4))\n",
    "ar_np=np.arange(4)\n",
    "print(ones_1)\n",
    "print()\n",
    "print(ar_np)"
   ]
  },
  {
   "cell_type": "code",
   "execution_count": 17,
   "id": "2415002c-aeed-44e2-a16a-7ab936b89f8c",
   "metadata": {},
   "outputs": [
    {
     "name": "stdout",
     "output_type": "stream",
     "text": [
      "[[1. 0. 0. 0. 0. 0. 0. 0. 0.]\n",
      " [0. 1. 0. 0. 0. 0. 0. 0. 0.]\n",
      " [0. 0. 1. 0. 0. 0. 0. 0. 0.]\n",
      " [0. 0. 0. 1. 0. 0. 0. 0. 0.]\n",
      " [0. 0. 0. 0. 1. 0. 0. 0. 0.]\n",
      " [0. 0. 0. 0. 0. 1. 0. 0. 0.]\n",
      " [0. 0. 0. 0. 0. 0. 1. 0. 0.]\n",
      " [0. 0. 0. 0. 0. 0. 0. 1. 0.]\n",
      " [0. 0. 0. 0. 0. 0. 0. 0. 1.]]\n"
     ]
    }
   ],
   "source": [
    "arr_dia=np.eye(9)\n",
    "print(arr_dia)\n"
   ]
  },
  {
   "cell_type": "code",
   "execution_count": 19,
   "id": "4ed17bcf-81d2-4203-8c52-5e6a2477f28d",
   "metadata": {},
   "outputs": [
    {
     "name": "stdout",
     "output_type": "stream",
     "text": [
      "[ 0.   2.5  5.   7.5 10. ]\n"
     ]
    }
   ],
   "source": [
    "arr_lin=np.linspace(0,10,num=5)\n",
    "print(arr_lin)\n"
   ]
  },
  {
   "cell_type": "code",
   "execution_count": 4,
   "id": "9037f7c0-cfaf-4953-a091-23ba72217880",
   "metadata": {},
   "outputs": [
    {
     "name": "stdout",
     "output_type": "stream",
     "text": [
      "[0.88048588 0.59116868 0.39816342 0.92177705]\n",
      "[[0.64658373 0.33606596 0.71594715 0.51843454 0.49295603]\n",
      " [0.96523073 0.86209131 0.4728859  0.35554416 0.08537155]]\n"
     ]
    }
   ],
   "source": [
    "#create Numpy array with random number\n",
    "import numpy as np\n",
    "var=np.random.rand(4)\n",
    "print(var)\n",
    "var2=np.random.rand(2,5)\n",
    "print(var2)\n"
   ]
  },
  {
   "cell_type": "code",
   "execution_count": 5,
   "id": "9535d4ff-5f38-4ae1-b0f7-83c4c4e41f35",
   "metadata": {},
   "outputs": [
    {
     "name": "stdout",
     "output_type": "stream",
     "text": [
      "[[-0.54849587  1.68936377  1.9496031 ]\n",
      " [ 0.24672339  0.13897962 -0.31457684]]\n"
     ]
    }
   ],
   "source": [
    "var3=np.random.randn(2,3)\n",
    "print (var3)\n",
    "#for printing random no clode to zero and also generates a negative number"
   ]
  },
  {
   "cell_type": "code",
   "execution_count": 6,
   "id": "45698559-3143-48db-a0ac-803a133ed6c1",
   "metadata": {},
   "outputs": [
    {
     "name": "stdout",
     "output_type": "stream",
     "text": [
      "[0.23862804 0.36331615 0.00861167]\n"
     ]
    }
   ],
   "source": [
    "var4=np.random.ranf(3)\n",
    "print(var4)"
   ]
  },
  {
   "cell_type": "code",
   "execution_count": 7,
   "id": "5c0adb2a-f823-4a65-b032-6e5e45b8837a",
   "metadata": {},
   "outputs": [
    {
     "name": "stdout",
     "output_type": "stream",
     "text": [
      "[13 12 22 21 25  7  5]\n"
     ]
    }
   ],
   "source": [
    "#for a given range from [min,max,range]\n",
    "var5=np.random.randint(5,30,7)\n",
    "print(var5)"
   ]
  },
  {
   "cell_type": "markdown",
   "id": "daeb2d1f-942b-4608-98db-21463bd873cb",
   "metadata": {},
   "source": [
    "Data type"
   ]
  },
  {
   "cell_type": "code",
   "execution_count": 9,
   "id": "9886b12d-1682-480e-b9d0-dbab1ae38e39",
   "metadata": {},
   "outputs": [
    {
     "name": "stdout",
     "output_type": "stream",
     "text": [
      "Data Type : int64\n"
     ]
    }
   ],
   "source": [
    "import numpy as np\n",
    "var=np.array([1,2,3,4])\n",
    "print(\"Data Type :\",var.dtype)"
   ]
  },
  {
   "cell_type": "code",
   "execution_count": 11,
   "id": "a0247cb4-2b0d-43a8-b4ad-a70ec301276f",
   "metadata": {},
   "outputs": [
    {
     "name": "stdout",
     "output_type": "stream",
     "text": [
      "data types is : float64\n"
     ]
    }
   ],
   "source": [
    "var=np.array([1.0,2.0,5.7])\n",
    "print(\"data types is :\",var.dtype)"
   ]
  },
  {
   "cell_type": "code",
   "execution_count": 12,
   "id": "883b7119-97da-455c-9c56-6742f08d5c62",
   "metadata": {},
   "outputs": [
    {
     "name": "stdout",
     "output_type": "stream",
     "text": [
      "data types is : <U1\n"
     ]
    }
   ],
   "source": [
    "var=np.array([\"a\",\"b\",'c'])\n",
    "print(\"data types is :\",var.dtype)"
   ]
  },
  {
   "cell_type": "code",
   "execution_count": 13,
   "id": "6dab9bb1-33a3-44fb-a055-3622d351272f",
   "metadata": {},
   "outputs": [
    {
     "name": "stdout",
     "output_type": "stream",
     "text": [
      "data types is : <U32\n"
     ]
    }
   ],
   "source": [
    "var=np.array(['a','b',1.0,2.0,5.7])\n",
    "print(\"data types is :\",var.dtype)"
   ]
  },
  {
   "cell_type": "code",
   "execution_count": 15,
   "id": "5ab0e2e5-4dc3-497a-a034-7e9c11ac7edc",
   "metadata": {},
   "outputs": [
    {
     "name": "stdout",
     "output_type": "stream",
     "text": [
      "data types is : float32\n",
      "[1. 2. 5.]\n"
     ]
    }
   ],
   "source": [
    " var=np.array([1,2,5],dtype=\"f\")\n",
    "print(\"data types is :\",var.dtype)\n",
    "print(var)"
   ]
  },
  {
   "cell_type": "code",
   "execution_count": 17,
   "id": "1d018073-f4f0-4b0b-8bb7-71f769d3c839",
   "metadata": {},
   "outputs": [
    {
     "name": "stdout",
     "output_type": "stream",
     "text": [
      "data types is : float32\n",
      "data types is : int64\n",
      "[1 2 3 4]\n",
      "[1. 2. 3. 4.]\n"
     ]
    }
   ],
   "source": [
    "x2=np.array([1,2,3,4])\n",
    "new=np.float32(x2)\n",
    "new_ones=np.int_(new)\n",
    "print(\"data types is :\",new.dtype)\n",
    "print(\"data types is :\",x2.dtype)\n",
    "print(x2)\n",
    "print(new)"
   ]
  },
  {
   "cell_type": "markdown",
   "id": "b542a1a3-8562-451d-b7f2-cd40d11551c7",
   "metadata": {},
   "source": [
    "ARITHMETIC OPERATIONS IN NUMPY ARRAY"
   ]
  },
  {
   "cell_type": "code",
   "execution_count": 19,
   "id": "bd64b31b-09cd-4d14-8364-be651869c13f",
   "metadata": {},
   "outputs": [
    {
     "name": "stdout",
     "output_type": "stream",
     "text": [
      "[6 7 8 9]\n"
     ]
    }
   ],
   "source": [
    "import numpy as np\n",
    "vr=np.array([1,2,3,4])\n",
    "vr_1=vr+5\n",
    "print(vr_1)\n",
    "\n",
    " "
   ]
  },
  {
   "cell_type": "code",
   "execution_count": 20,
   "id": "c6eade8d-52ed-4a13-9eb7-453a6805a812",
   "metadata": {},
   "outputs": [
    {
     "name": "stdout",
     "output_type": "stream",
     "text": [
      "[2 4 6 8]\n"
     ]
    }
   ],
   "source": [
    "vr1=np.array([1,2,3,4])\n",
    "vr2=np.array([1,2,3,4])\n",
    "varadd=vr1+vr2\n",
    "print(varadd)"
   ]
  },
  {
   "cell_type": "code",
   "execution_count": 21,
   "id": "798b2a1d-dbb6-44d3-aad1-cc96f68d3d92",
   "metadata": {},
   "outputs": [
    {
     "name": "stdout",
     "output_type": "stream",
     "text": [
      "[1 2 0 1]\n"
     ]
    }
   ],
   "source": [
    "var=np.array([1,2,3,4])\n",
    "car=var%3\n",
    "print(car)"
   ]
  },
  {
   "cell_type": "code",
   "execution_count": 23,
   "id": "4c516bf3-e5eb-42d3-aa49-3c5e43502043",
   "metadata": {},
   "outputs": [
    {
     "name": "stdout",
     "output_type": "stream",
     "text": [
      "[[ 2  4  6  8]\n",
      " [ 2  6 12 18]]\n"
     ]
    }
   ],
   "source": [
    "#2d array\n",
    "vr1=np.array([[1,2,3,4],[1,3,6,9]])\n",
    "vr2=np.array([[1,2,3,4],[1,3,6,9]])\n",
    "varadd=vr1+vr2\n",
    "print(varadd)"
   ]
  },
  {
   "cell_type": "code",
   "execution_count": 25,
   "id": "f0196f3d-c616-4d8c-a0f9-9b7937749d57",
   "metadata": {},
   "outputs": [
    {
     "name": "stdout",
     "output_type": "stream",
     "text": [
      "min: 1\n",
      "max: 78\n"
     ]
    }
   ],
   "source": [
    "var=np.array([1,2,3,4,5,6,78,9])\n",
    "print(\"min:\",np.min(var))\n",
    "print(\"max:\",np.max(var))"
   ]
  },
  {
   "cell_type": "code",
   "execution_count": 27,
   "id": "f4b7bf02-4a17-49fc-81f8-b727a9992425",
   "metadata": {},
   "outputs": [
    {
     "name": "stdout",
     "output_type": "stream",
     "text": [
      "min: 1 0\n",
      "sqrt [1.         1.41421356 1.73205081 2.         2.23606798 2.44948974\n",
      " 2.64575131 2.82842712]\n"
     ]
    }
   ],
   "source": [
    "var=np.array([1,2,3,4,5,6,7,8])\n",
    "print(\"min:\",np.min(var),np.argmin(var))\n",
    "print(\"sqrt\",np.sqrt(var))\n",
    "#argmin and argmax is the function that returns the min and max index of the element in the array"
   ]
  },
  {
   "cell_type": "code",
   "execution_count": 28,
   "id": "08ee6d78-3006-4718-98ad-5229eacc4579",
   "metadata": {},
   "outputs": [
    {
     "name": "stdout",
     "output_type": "stream",
     "text": [
      "Original array: [1 2 3 4 5]\n",
      "Cumulative sum: [ 1  3  6 10 15]\n"
     ]
    }
   ],
   "source": [
    "import numpy as np\n",
    "\n",
    "arr = np.array([1, 2, 3, 4, 5])\n",
    "cumulative_sum = np.cumsum(arr)\n",
    "print(\"Original array:\", arr)\n",
    "print(\"Cumulative sum:\", cumulative_sum)\n"
   ]
  },
  {
   "cell_type": "markdown",
   "id": "07cb23e7-0e82-4a4c-8fb4-34f2788c0076",
   "metadata": {},
   "source": [
    "Explanation:\n",
    "this is cumsum \n",
    "Step 1: 1\n",
    "Step 2: 1 + 2 = 3\n",
    "Step 3: 1 + 2 + 3 = 6\n",
    "Step 4: 1 + 2 + 3 + 4 = 10\n",
    "Step 5: 1 + 2 + 3 + 4 + 5 = 15"
   ]
  },
  {
   "cell_type": "markdown",
   "id": "87db6e8a-fcc1-490b-a104-3bbd29017dca",
   "metadata": {},
   "source": [
    "SHAPE"
   ]
  },
  {
   "cell_type": "code",
   "execution_count": 30,
   "id": "d03d45be-cd8b-4937-91b7-220695cfce37",
   "metadata": {},
   "outputs": [
    {
     "name": "stdout",
     "output_type": "stream",
     "text": [
      "[[1 2]\n",
      " [3 4]]\n",
      "\n",
      "(2, 2)\n"
     ]
    }
   ],
   "source": [
    "#Shape the Array\n",
    "import numpy as np\n",
    "var=np.array([[1,2],[3,4]])\n",
    "print(var)\n",
    "print()\n",
    "print(var.shape)\n"
   ]
  },
  {
   "cell_type": "code",
   "execution_count": 32,
   "id": "00eff15d-b8ed-4c06-830a-0a6575c3a7a5",
   "metadata": {},
   "outputs": [
    {
     "name": "stdout",
     "output_type": "stream",
     "text": [
      "[[1 2 3]\n",
      " [4 5 6]\n",
      " [7 8 9]]\n"
     ]
    }
   ],
   "source": [
    "#Reshape the array\n",
    "var2=np.array([1,2,3,4,5,6,7,8,9])\n",
    "x=var2.reshape(3,3)\n",
    "print(x)"
   ]
  },
  {
   "cell_type": "code",
   "execution_count": 4,
   "id": "ca8c974e-231a-4862-84cd-30c92332a090",
   "metadata": {},
   "outputs": [
    {
     "name": "stdout",
     "output_type": "stream",
     "text": [
      "2\n",
      "2\n"
     ]
    }
   ],
   "source": [
    " #Broadcasting in the Numpy arrays\n",
    "import numpy as np\n",
    "var1=np.array([1,2,3,4])\n",
    "print(var1[-3])\n",
    "print(var1[1])"
   ]
  },
  {
   "cell_type": "code",
   "execution_count": 12,
   "id": "11d33a16-d51e-4202-ab2e-b702d772c0b0",
   "metadata": {},
   "outputs": [
    {
     "name": "stdout",
     "output_type": "stream",
     "text": [
      "[[[3 4]\n",
      "  [1 2]\n",
      "  [6 7]]]\n",
      "\n",
      "7\n"
     ]
    }
   ],
   "source": [
    "#indexing and slicing and iterating in the Numpy array\n",
    "var2 =np.array([[[3,4],[1,2],[6,7]]])\n",
    "print(var2)\n",
    "print()\n",
    "print(var2[0,2,1])\n"
   ]
  },
  {
   "cell_type": "code",
   "execution_count": 20,
   "id": "1cd97dfd-36a1-4c25-a83f-fab58172b706",
   "metadata": {},
   "outputs": [
    {
     "name": "stdout",
     "output_type": "stream",
     "text": [
      "[1 2 3 4 5 6]\n",
      "\n",
      "2 to 5 [2 3 4 5]\n"
     ]
    },
    {
     "ename": "ValueError",
     "evalue": "setting an array element with a sequence. The requested array has an inhomogeneous shape after 1 dimensions. The detected shape was (2,) + inhomogeneous part.",
     "output_type": "error",
     "traceback": [
      "\u001b[1;31m---------------------------------------------------------------------------\u001b[0m",
      "\u001b[1;31mValueError\u001b[0m                                Traceback (most recent call last)",
      "Cell \u001b[1;32mIn[20], line 9\u001b[0m\n\u001b[0;32m      6\u001b[0m \u001b[38;5;28mprint\u001b[39m()\n\u001b[0;32m      7\u001b[0m \u001b[38;5;28mprint\u001b[39m(\u001b[38;5;124m\"\u001b[39m\u001b[38;5;124m2 to 5\u001b[39m\u001b[38;5;124m\"\u001b[39m, var[\u001b[38;5;241m1\u001b[39m:\u001b[38;5;241m5\u001b[39m])\n\u001b[1;32m----> 9\u001b[0m var \u001b[38;5;241m=\u001b[39m \u001b[43mnp\u001b[49m\u001b[38;5;241;43m.\u001b[39;49m\u001b[43marray\u001b[49m\u001b[43m(\u001b[49m\u001b[43m[\u001b[49m\u001b[43m[\u001b[49m\u001b[38;5;241;43m9\u001b[39;49m\u001b[43m,\u001b[49m\u001b[43m \u001b[49m\u001b[38;5;241;43m8\u001b[39;49m\u001b[43m,\u001b[49m\u001b[43m \u001b[49m\u001b[38;5;241;43m7\u001b[39;49m\u001b[43m,\u001b[49m\u001b[43m \u001b[49m\u001b[38;5;241;43m6\u001b[39;49m\u001b[43m,\u001b[49m\u001b[43m \u001b[49m\u001b[38;5;241;43m5\u001b[39;49m\u001b[43m,\u001b[49m\u001b[43m \u001b[49m\u001b[38;5;241;43m4\u001b[39;49m\u001b[43m,\u001b[49m\u001b[43m \u001b[49m\u001b[38;5;241;43m3\u001b[39;49m\u001b[43m,\u001b[49m\u001b[43m \u001b[49m\u001b[38;5;241;43m2\u001b[39;49m\u001b[43m,\u001b[49m\u001b[43m \u001b[49m\u001b[38;5;241;43m1\u001b[39;49m\u001b[43m]\u001b[49m\u001b[43m,\u001b[49m\u001b[43m \u001b[49m\u001b[43m[\u001b[49m\u001b[38;5;241;43m1\u001b[39;49m\u001b[43m,\u001b[49m\u001b[43m \u001b[49m\u001b[38;5;241;43m2\u001b[39;49m\u001b[43m,\u001b[49m\u001b[43m \u001b[49m\u001b[38;5;241;43m3\u001b[39;49m\u001b[43m,\u001b[49m\u001b[43m \u001b[49m\u001b[38;5;241;43m4\u001b[39;49m\u001b[43m,\u001b[49m\u001b[43m \u001b[49m\u001b[38;5;241;43m5\u001b[39;49m\u001b[43m,\u001b[49m\u001b[43m \u001b[49m\u001b[38;5;241;43m6\u001b[39;49m\u001b[43m]\u001b[49m\u001b[43m]\u001b[49m\u001b[43m)\u001b[49m\n\u001b[0;32m     10\u001b[0m \u001b[38;5;28mprint\u001b[39m(var)  \u001b[38;5;66;03m# Print the 2D array to see its structure\u001b[39;00m\n\u001b[0;32m     11\u001b[0m \u001b[38;5;28mprint\u001b[39m()\n",
      "\u001b[1;31mValueError\u001b[0m: setting an array element with a sequence. The requested array has an inhomogeneous shape after 1 dimensions. The detected shape was (2,) + inhomogeneous part."
     ]
    }
   ],
   "source": [
    "#SLICING THE ARRAY\n",
    "import numpy as np\n",
    "\n",
    "var = np.array([1, 2, 3, 4, 5, 6])\n",
    "print(var)\n",
    "print()\n",
    "print(\"2 to 5\", var[1:5])\n",
    "\n",
    "var = np.array([[9, 8, 7, 6, 5, 4, 3, 2, 1], [1, 2, 3, 4, 5, 6]])\n",
    "print(var)  # Print the 2D array to see its structure\n",
    "print()\n",
    "print(var[:4])  # This will NOT do what you expect in a 2D array\n",
    "print(\"8 to 5:\", var[0, 1:6]) #Corrected slicing for the 2D array\n",
    "print(\"3 to end:\", var[1, 2:]) #Corrected slicing for the 2D array"
   ]
  },
  {
   "cell_type": "code",
   "execution_count": 21,
   "id": "c98357fc-d67c-4b65-a45d-a0ec72fd965c",
   "metadata": {},
   "outputs": [
    {
     "name": "stdout",
     "output_type": "stream",
     "text": [
      "[3 4 5 6]\n",
      "\n",
      "3\n",
      "4\n",
      "5\n",
      "6\n"
     ]
    }
   ],
   "source": [
    "var = np.array([3,4,5,6])\n",
    "print(var)\n",
    "print()\n",
    "for i in var:\n",
    "    print(i)"
   ]
  },
  {
   "cell_type": "code",
   "execution_count": 22,
   "id": "62ce980c-6f72-4529-a85c-c91f42eeb17b",
   "metadata": {},
   "outputs": [
    {
     "name": "stdout",
     "output_type": "stream",
     "text": [
      "[[[9 8 7 6]\n",
      "  [4 5 3 2]]]\n",
      "3\n",
      "\n",
      "[[9 8 7 6]\n",
      " [4 5 3 2]]\n"
     ]
    }
   ],
   "source": [
    "var3=np.array([[[9,8,7,6],[4,5,3,2]]])\n",
    "print(var3)\n",
    "print(var3.ndim)\n",
    "print()\n",
    "for i in var3:\n",
    "    print(i)"
   ]
  },
  {
   "cell_type": "code",
   "execution_count": 25,
   "id": "11875965-e5f0-48a0-b382-5e7d640f09d8",
   "metadata": {},
   "outputs": [
    {
     "name": "stdout",
     "output_type": "stream",
     "text": [
      "[[1 2 3 4]\n",
      " [1 2 3 4]]\n",
      "[1 2 3 4]\n",
      "[1 2 3 4]\n",
      "\n",
      "1\n",
      "2\n",
      "3\n",
      "4\n",
      "1\n",
      "2\n",
      "3\n",
      "4\n"
     ]
    }
   ],
   "source": [
    "var1 = np.array([[1,2,3,4],[1,2,3,4]])\n",
    "print(var1)\n",
    "\n",
    "for j in var1:\n",
    "    print(j)\n",
    "print()\n",
    "\n",
    "for k in var1:\n",
    "    for l in k:\n",
    "     print(l)"
   ]
  },
  {
   "cell_type": "code",
   "execution_count": 28,
   "id": "bc3f50aa-6d6e-4d7f-bb6e-894de3dbd874",
   "metadata": {},
   "outputs": [
    {
     "name": "stdout",
     "output_type": "stream",
     "text": [
      "[[[1.  2.  3.  4.  5. ]\n",
      "  [1.2 2.3 3.4 4.5 5.6]]]\n",
      "\n",
      "3\n",
      "1.0\n",
      "2.0\n",
      "3.0\n",
      "4.0\n",
      "5.0\n",
      "1.2\n",
      "2.3\n",
      "3.4\n",
      "4.5\n",
      "5.6\n"
     ]
    }
   ],
   "source": [
    "var3=np.array([[[1,2,3,4,5],[1.2,2.3,3.4,4.5,5.6]]])\n",
    "print(var3)\n",
    "print()\n",
    "print(var3.ndim)\n",
    "\n",
    "for i in var3:\n",
    "    for j in i:\n",
    "        for k in j:\n",
    "            print(k)"
   ]
  },
  {
   "cell_type": "code",
   "execution_count": 31,
   "id": "11a26f4d-c006-484d-92d1-ef7a159f3bdd",
   "metadata": {},
   "outputs": [
    {
     "name": "stdout",
     "output_type": "stream",
     "text": [
      "[[[9 8 7 6]\n",
      "  [1 2 3 4]]]\n",
      "\n",
      "3\n",
      "\n",
      "9\n",
      "8\n",
      "7\n",
      "6\n",
      "1\n",
      "2\n",
      "3\n",
      "4\n"
     ]
    }
   ],
   "source": [
    "#iteration ke lie instead of for loop we can use nditer()\n",
    "var3=np.array([[[9,8,7,6],[1,2,3,4]]])\n",
    "print(var3)\n",
    "print()\n",
    "print(var3.ndim)\n",
    "print()\n",
    "\n",
    "for i in np.nditer(var3):\n",
    " print(i)"
   ]
  },
  {
   "cell_type": "code",
   "execution_count": 34,
   "id": "0ad99c88-0fd5-432f-9948-0f5de3e1df00",
   "metadata": {},
   "outputs": [
    {
     "name": "stdout",
     "output_type": "stream",
     "text": [
      "[[[9 8 7 6]\n",
      "  [1 2 3 4]]]\n",
      "\n",
      "3\n",
      "\n",
      "(0, 0, 0) 9\n",
      "(0, 0, 1) 8\n",
      "(0, 0, 2) 7\n",
      "(0, 0, 3) 6\n",
      "(0, 1, 0) 1\n",
      "(0, 1, 1) 2\n",
      "(0, 1, 2) 3\n",
      "(0, 1, 3) 4\n"
     ]
    }
   ],
   "source": [
    "var3=np.array([[[9,8,7,6],[1,2,3,4]]])\n",
    "print(var3)\n",
    "print()\n",
    "print(var3.ndim)\n",
    "print()\n",
    "\n",
    "for i,d in np.ndenumerate(var3):\n",
    " print(i,d)"
   ]
  },
  {
   "cell_type": "code",
   "execution_count": 2,
   "id": "3932c145-079e-4f3a-9122-1347466c9baa",
   "metadata": {},
   "outputs": [
    {
     "name": "stdout",
     "output_type": "stream",
     "text": [
      "var : [1 2 3 4]\n",
      "copy : [1 2 3 4]\n",
      "copy: [1 2 3 4]\n"
     ]
    }
   ],
   "source": [
    "#COPY AND VIEW IN NUMPY\n",
    "import numpy as np\n",
    "var=np.array([1,2,3,4])\n",
    "co=var.copy()\n",
    "\n",
    "print(\"var :\",var)\n",
    "print(\"copy :\",co)\n",
    "var[1]=88\n",
    "print(\"copy:\",co)\n"
   ]
  },
  {
   "cell_type": "code",
   "execution_count": 4,
   "id": "1d0fa7b8-baf4-4741-b049-b12cd57d0b23",
   "metadata": {},
   "outputs": [
    {
     "name": "stdout",
     "output_type": "stream",
     "text": [
      "var : [1 2 3 4]\n",
      "view : [1 2 3 4]\n",
      "view: [ 1 88  3  4]\n"
     ]
    }
   ],
   "source": [
    "import numpy as np\n",
    "var=np.array([1,2,3,4])\n",
    "co=var.view()\n",
    "\n",
    "print(\"var :\",var)\n",
    "print(\"view :\",co)\n",
    "var[1]=88\n",
    "print(\"view:\",co)\n"
   ]
  },
  {
   "cell_type": "code",
   "execution_count": 2,
   "id": "abed16f4-0bac-44c4-8333-019fd14896c5",
   "metadata": {},
   "outputs": [
    {
     "name": "stdout",
     "output_type": "stream",
     "text": [
      "[1 2 3 4 9 8 7 6]\n"
     ]
    }
   ],
   "source": [
    "import numpy as np\n",
    "\n",
    "var = np.array([1,2,3,4])\n",
    "var1=np.array([9,8,7,6])\n",
    "\n",
    "ar = np.concatenate((var,var1))\n",
    "\n",
    "print(ar)"
   ]
  },
  {
   "cell_type": "code",
   "execution_count": 3,
   "id": "df05298b-6b15-4ea9-b4ab-549c261a860d",
   "metadata": {},
   "outputs": [
    {
     "name": "stdout",
     "output_type": "stream",
     "text": [
      "[[1 2]\n",
      " [3 4]\n",
      " [5 6]\n",
      " [7 8]]\n"
     ]
    }
   ],
   "source": [
    "vr=np.array([[1,2],[3,4]])\n",
    "vr1=np.array([[5,6],[7,8]])\n",
    " \n",
    "ar = np.concatenate((vr,vr1))\n",
    "\n",
    "print(ar)"
   ]
  },
  {
   "cell_type": "code",
   "execution_count": 7,
   "id": "4538f916-a657-42a3-8ef4-4148117aa3e1",
   "metadata": {},
   "outputs": [
    {
     "name": "stdout",
     "output_type": "stream",
     "text": [
      "[1 2 3 4 5 6 7]\n",
      "[array([1, 2]), array([3, 4]), array([5]), array([6]), array([7])]\n"
     ]
    }
   ],
   "source": [
    "import numpy as np\n",
    "\n",
    "var=np.array([1,2,3,4,5,6,7])\n",
    "\n",
    "print(var)\n",
    "\n",
    "ar=np.array_split(var,3)\n",
    "print(ar)"
   ]
  },
  {
   "cell_type": "code",
   "execution_count": 2,
   "id": "e52d4739-86b8-4584-b246-8155f2a98dca",
   "metadata": {},
   "outputs": [
    {
     "name": "stdout",
     "output_type": "stream",
     "text": [
      "(array([1, 3, 6, 8]),)\n"
     ]
    }
   ],
   "source": [
    "import numpy as np\n",
    "var = np.array([1,2,3,2,4,5,2,5,2,8,9])\n",
    "x=np.where(var ==2 )\n",
    "print(x)\n"
   ]
  },
  {
   "cell_type": "code",
   "execution_count": 4,
   "id": "3f7551da-1186-4c2a-9ddd-5726b98e7bc2",
   "metadata": {},
   "outputs": [
    {
     "name": "stdout",
     "output_type": "stream",
     "text": [
      "['a' 'd']\n",
      "<class 'numpy.ndarray'>\n"
     ]
    }
   ],
   "source": [
    "var_3=np.array(['a','s','d','f'])\n",
    "f=[True,False,True,False]\n",
    "new_1=var_3[f]\n",
    "print(new_1)\n",
    "print(type(new_1))"
   ]
  },
  {
   "cell_type": "code",
   "execution_count": 5,
   "id": "de5250d6-ea95-4d38-9215-8bed67872d4d",
   "metadata": {},
   "outputs": [
    {
     "name": "stdout",
     "output_type": "stream",
     "text": [
      "[3 5 1 4 2 6]\n"
     ]
    }
   ],
   "source": [
    "import numpy as np\n",
    "var=np.array([1,2,3,4,5,6])\n",
    "np.random.shuffle(var)\n",
    "print(var)"
   ]
  },
  {
   "cell_type": "code",
   "execution_count": 11,
   "id": "0cdb390a-b9dd-4c42-a1bf-f015a9c782c5",
   "metadata": {},
   "outputs": [
    {
     "name": "stdout",
     "output_type": "stream",
     "text": [
      "[[1 2 3 3]\n",
      " [4 5 2 3]]\n",
      "[1 2 3 4 5 6 7 8]\n",
      "[[1 2 3 3]\n",
      " [4 5 2 3]]\n"
     ]
    }
   ],
   "source": [
    "var1 = np.array([1,2,3,3,4,5,2,3,4,5,6,7,8])\n",
    "y=np.resize(var1,(2,4))\n",
    "print(y)\n",
    "x=np.unique(var1)\n",
    "print(x)\n",
    "print(y)"
   ]
  },
  {
   "cell_type": "code",
   "execution_count": 12,
   "id": "1e1e89fb-b8ae-4b6e-ba92-300f8b72e556",
   "metadata": {},
   "outputs": [
    {
     "name": "stdout",
     "output_type": "stream",
     "text": [
      "[1 2 4]\n"
     ]
    }
   ],
   "source": [
    "var1=np.array([1,2,3,4])\n",
    "d=np.delete(var1,2)\n",
    "print(d)"
   ]
  },
  {
   "cell_type": "markdown",
   "id": "0fd107f2-b0e0-4d8c-885d-5812895d5087",
   "metadata": {},
   "source": [
    "#MATRIX"
   ]
  },
  {
   "cell_type": "code",
   "execution_count": null,
   "id": "64516de0-37f8-4f5c-8f51-1d6361eea51f",
   "metadata": {},
   "outputs": [],
   "source": [
    "import numpy as np\n",
    "\n",
    "# Define a square matrix\n",
    "matrix = np.array([[1, 2], [3, 4]])\n",
    "\n",
    "# Compute determinant\n",
    "determinant = np.linalg.det(matrix)\n",
    "\n",
    "print(\"Determinant:\", determinant)\n"
   ]
  },
  {
   "cell_type": "code",
   "execution_count": 3,
   "id": "c4012626-f68e-41b1-8891-cb07cb04b20d",
   "metadata": {},
   "outputs": [
    {
     "name": "stdout",
     "output_type": "stream",
     "text": [
      "[[1 2 3]\n",
      " [1 2 3]]\n",
      "<class 'numpy.ndarray'>\n"
     ]
    }
   ],
   "source": [
    "import numpy as np\n",
    "var = np.array([[1,2,3],[1,2,3]])\n",
    "print(var)\n",
    "print(type(var))"
   ]
  },
  {
   "cell_type": "code",
   "execution_count": 4,
   "id": "cf9786b8-9323-4fbf-8fd6-863af6b4e030",
   "metadata": {},
   "outputs": [
    {
     "name": "stdout",
     "output_type": "stream",
     "text": [
      "[[1 4]\n",
      " [2 5]\n",
      " [3 6]]\n"
     ]
    }
   ],
   "source": [
    "var=np.matrix([[1,2,3],[4,5,6]])\n",
    "print(np.transpose(var))"
   ]
  },
  {
   "cell_type": "code",
   "execution_count": null,
   "id": "a630524d-7789-4df6-bb72-28c587305d84",
   "metadata": {},
   "outputs": [],
   "source": [
    "#the end goodbye\n",
    "'''1. Array Creation\n",
    "np.array() - Create an array.\n",
    "np.zeros() - Create an array filled with zeros.\n",
    "np.ones() - Create an array filled with ones.\n",
    "np.empty() - Create an empty array.\n",
    "np.arange() - Create an array with evenly spaced values.\n",
    "np.linspace() - Create an array with linearly spaced values.\n",
    "np.eye() - Create an identity matrix.\n",
    "np.random.rand() - Random values in a given shape.\n",
    "np.random.randint() - Random integers in a given range.\n",
    "\n",
    "    \n",
    "2. Array Manipulation\n",
    "np.reshape() - Reshape an array.\n",
    "np.ravel() - Flatten an array.\n",
    "np.transpose() - Transpose an array.\n",
    "np.concatenate() - Join arrays along an axis.\n",
    "np.stack() - Stack arrays along a new axis.\n",
    "\n",
    "    \n",
    "3. Mathematical Operations\n",
    "np.add() - Element-wise addition.\n",
    "np.subtract() - Element-wise subtraction.\n",
    "np.multiply() - Element-wise multiplication.\n",
    "np.divide() - Element-wise division.\n",
    "np.dot() - Dot product of two arrays.\n",
    "np.sqrt() - Element-wise square root.\n",
    "np.power() - Element-wise power.\n",
    "np.exp() - Exponential of all elements.\n",
    "np.sin(), np.cos(), np.tan() - Trigonometric functions.\n",
    "\n",
    "    \n",
    "4. Statistical Functions\n",
    "np.mean() - Compute the mean.\n",
    "np.median() - Compute the median.\n",
    "np.std() - Compute the standard deviation.\n",
    "np.var() - Compute the variance.\n",
    "np.min() - Minimum value.\n",
    "np.max() - Maximum value.\n",
    "\n",
    "    \n",
    "5. Linear Algebra Functions\n",
    "np.linalg.det() - Determinant of a matrix.\n",
    "np.linalg.inv() - Inverse of a matrix.\n",
    "np.linalg.eig() - Eigenvalues and eigenvectors.\n",
    "np.linalg.norm() - Norm of a matrix or vector.\n",
    "np.linalg.solve() - Solve linear matrix equations.\n",
    "\n",
    "    \n",
    "6. Logical Functions\n",
    "np.all() - Test if all elements are true.\n",
    "np.any() - Test if any element is true.\n",
    "np.where() - Return elements based on condition.\n",
    "np.logical_and(), np.logical_or(), np.logical_not() - Logical operations.\n",
    "\n",
    "\n",
    "7. Sorting and Searching\n",
    "np.sort() - Sort an array.\n",
    "np.argsort() - Returns the indices that would sort an array.\n",
    "np.argmax() - Index of the maximum value.\n",
    "np.argmin() - Index of the minimum value.\n",
    "\n",
    "    \n",
    "8. Array Comparison\n",
    "np.equal() - Check element-wise equality.\n",
    "np.not_equal() - Check element-wise inequality.\n",
    "np.greater() - Check if elements are greater.\n",
    "np.less() - Check if elements are less.\n",
    "\n",
    "\n",
    "9. Random Functions\n",
    "np.random.seed() - Set the random seed.\n",
    "np.random.normal() - Generate normal distribution.\n",
    "np.random.choice() - Randomly pick elements from an array.'''\n"
   ]
  }
 ],
 "metadata": {
  "kernelspec": {
   "display_name": "Python 3 (ipykernel)",
   "language": "python",
   "name": "python3"
  },
  "language_info": {
   "codemirror_mode": {
    "name": "ipython",
    "version": 3
   },
   "file_extension": ".py",
   "mimetype": "text/x-python",
   "name": "python",
   "nbconvert_exporter": "python",
   "pygments_lexer": "ipython3",
   "version": "3.12.4"
  }
 },
 "nbformat": 4,
 "nbformat_minor": 5
}
